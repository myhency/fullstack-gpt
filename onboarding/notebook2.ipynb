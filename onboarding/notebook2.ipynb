{
 "cells": [
  {
   "cell_type": "code",
   "execution_count": 5,
   "metadata": {},
   "outputs": [],
   "source": [
    "from langchain.chat_models import ChatOllama\n",
    "from langchain.prompts import PromptTemplate, ChatPromptTemplate\n",
    "from langchain.callbacks import StreamingStdOutCallbackHandler\n",
    "from langchain.prompts.few_shot import FewShotPromptTemplate\n",
    "\n",
    "chat = ChatOllama(temperature=0.1, streaming=True, callbacks=[StreamingStdOutCallbackHandler()])\n",
    "\n",
    "chef_prompt = ChatPromptTemplate.from_messages([\n",
    "    (\"system\", \"You are a world=class international chef. You create easy to follow recipes for any type of cuisine with easy to find ingredients.\"),\n",
    "    (\"human\", \"I want to cook {cuisine} food.\")\n",
    "])\n",
    "\n",
    "chef_chain = chef_prompt | chat"
   ]
  },
  {
   "cell_type": "code",
   "execution_count": 6,
   "metadata": {},
   "outputs": [
    {
     "name": "stdout",
     "output_type": "stream",
     "text": [
      "Great! Indian cuisine is known for its rich and diverse flavors, and there are many delicious dishes you can create using easily available ingredients. Here's a simple recipe for a classic Indian dish that you might enjoy:\n",
      "\n",
      "**Chicken Tikka Masala**\n",
      "\n",
      "Ingredients:\n",
      "\n",
      "* 1 lb boneless, skinless chicken breast or thighs, cut into bite-sized pieces\n",
      "* 1/2 cup plain yogurt\n",
      "* 2 tbsp lemon juice\n",
      "* 2 tbsp ginger paste\n",
      "* 2 tbsp garlic paste\n",
      "* 1 tsp ground cumin\n",
      "* 1 tsp ground coriander\n",
      "* 1/2 tsp ground cinnamon\n",
      "* 1/4 tsp ground cardamom\n",
      "* 1/4 tsp ground cayenne pepper (optional)\n",
      "* Salt and pepper, to taste\n",
      "* Vegetable oil, for frying\n",
      "* Fresh cilantro, chopped (for garnish)\n",
      "\n",
      "Instructions:\n",
      "\n",
      "1. In a large bowl, mix together the yogurt, lemon juice, ginger paste, garlic paste, cumin, coriander, cinnamon, cardamom, and cayenne pepper (if using). Add the chicken pieces and marinate for at least 30 minutes or up to 2 hours in the refrigerator.\n",
      "2. Heat about 1-2 inches of vegetable oil in a large skillet over medium-high heat. Remove the chicken from the marinade, letting any excess liquid drip off. Fry the chicken until it is cooked through and golden brown on all sides, about 5-7 minutes per side.\n",
      "3. Once the chicken is cooked, remove it from the skillet and set it aside on a plate. Reduce the heat to low and add any remaining oil to the skillet. Add the marinade liquid (including any browned bits from the bottom of the skillet) and stir to deglaze the pan.\n",
      "4. Return the chicken to the skillet and simmer for 5-7 minutes, stirring occasionally, until the sauce has thickened and the chicken is fully coated. Season with salt and pepper to taste.\n",
      "5. Serve the chicken tikka masala hot, garnished with chopped cilantro.\n",
      "\n",
      "I hope you enjoy this recipe! Let me know if you have any questions or if you'd like any variations on the recipe.As a vegetarian chef specialized in making traditional recipes vegetarian, I can certainly help you with that! Here are some alternative ingredients and their preparation methods for the Chicken Tikka Masala recipe:\n",
      "\n",
      "1. Marinating agent: Instead of using yogurt, you can use a mixture of soy sauce, lemon juice, and spices as a marinating agent. This will give the chicken a similar flavor profile to the traditional recipe without using animal products.\n",
      "2. Frying oil: You can use any vegetable oil for frying the chicken, such as olive oil, avocado oil, or grapeseed oil. Just make sure it's hot enough before adding the chicken to prevent sticking.\n",
      "3. Spices: For the spice blend, you can use a mixture of ground cumin, coriander, garam masala, and turmeric. You can also add some cayenne pepper for extra heat if you prefer.\n",
      "4. Lemon juice: Instead of using fresh lemon juice, you can use bottled lemon juice or a mixture of lemon juice and vinegar to achieve the same acidity level.\n",
      "5. Ginger paste: You can make your own ginger paste by grating fresh ginger and mixing it with a little water to create a smooth paste. Alternatively, you can use store-bought ginger paste.\n",
      "6. Garlic paste: Like ginger paste, you can make your own garlic paste by grinding fresh garlic in a food processor or blender. You can also use store-bought garlic paste.\n",
      "7. Cilantro: Instead of using fresh cilantro for garnish, you can use dried cilantro or basil leaves. Just sprinkle them on top of the dish before serving.\n",
      "\n",
      "Now, let's go through the recipe step by step with these alternative ingredients:\n",
      "\n",
      "1. In a large bowl, mix together the soy sauce, lemon juice, ginger paste, garlic paste, cumin, coriander, garam masala, and turmeric. Add the chicken pieces and marinate for at least 30 minutes or up to 2 hours in the refrigerator.\n",
      "2. Heat about 1-2 inches of vegetable oil in a large skillet over medium-high heat. Remove the chicken from the marinade, letting any excess liquid drip off. Fry the chicken until it is cooked through and golden brown on all sides, about 5-7 minutes per side.\n",
      "3. Once the chicken is cooked, remove it from the skillet and set it aside on a plate. Reduce the heat to low and add any remaining oil to the skillet. Add the marinade liquid (including any browned bits from the bottom of the skillet) and stir to deglaze the pan.\n",
      "4. Return the chicken to the skillet and simmer for 5-7 minutes, stirring occasionally, until the sauce has thickened and the chicken is fully coated. Season with salt and pepper to taste.\n",
      "5. Serve the chicken tikka masala hot, garnished with dried cilantro or basil leaves.\n",
      "\n",
      "I hope this helps you make a delicious vegetarian Chicken Tikka Masala dish! Let me know if you have any other questions or requests."
     ]
    },
    {
     "data": {
      "text/plain": [
       "AIMessage(content=\"As a vegetarian chef specialized in making traditional recipes vegetarian, I can certainly help you with that! Here are some alternative ingredients and their preparation methods for the Chicken Tikka Masala recipe:\\n\\n1. Marinating agent: Instead of using yogurt, you can use a mixture of soy sauce, lemon juice, and spices as a marinating agent. This will give the chicken a similar flavor profile to the traditional recipe without using animal products.\\n2. Frying oil: You can use any vegetable oil for frying the chicken, such as olive oil, avocado oil, or grapeseed oil. Just make sure it's hot enough before adding the chicken to prevent sticking.\\n3. Spices: For the spice blend, you can use a mixture of ground cumin, coriander, garam masala, and turmeric. You can also add some cayenne pepper for extra heat if you prefer.\\n4. Lemon juice: Instead of using fresh lemon juice, you can use bottled lemon juice or a mixture of lemon juice and vinegar to achieve the same acidity level.\\n5. Ginger paste: You can make your own ginger paste by grating fresh ginger and mixing it with a little water to create a smooth paste. Alternatively, you can use store-bought ginger paste.\\n6. Garlic paste: Like ginger paste, you can make your own garlic paste by grinding fresh garlic in a food processor or blender. You can also use store-bought garlic paste.\\n7. Cilantro: Instead of using fresh cilantro for garnish, you can use dried cilantro or basil leaves. Just sprinkle them on top of the dish before serving.\\n\\nNow, let's go through the recipe step by step with these alternative ingredients:\\n\\n1. In a large bowl, mix together the soy sauce, lemon juice, ginger paste, garlic paste, cumin, coriander, garam masala, and turmeric. Add the chicken pieces and marinate for at least 30 minutes or up to 2 hours in the refrigerator.\\n2. Heat about 1-2 inches of vegetable oil in a large skillet over medium-high heat. Remove the chicken from the marinade, letting any excess liquid drip off. Fry the chicken until it is cooked through and golden brown on all sides, about 5-7 minutes per side.\\n3. Once the chicken is cooked, remove it from the skillet and set it aside on a plate. Reduce the heat to low and add any remaining oil to the skillet. Add the marinade liquid (including any browned bits from the bottom of the skillet) and stir to deglaze the pan.\\n4. Return the chicken to the skillet and simmer for 5-7 minutes, stirring occasionally, until the sauce has thickened and the chicken is fully coated. Season with salt and pepper to taste.\\n5. Serve the chicken tikka masala hot, garnished with dried cilantro or basil leaves.\\n\\nI hope this helps you make a delicious vegetarian Chicken Tikka Masala dish! Let me know if you have any other questions or requests.\")"
      ]
     },
     "execution_count": 6,
     "metadata": {},
     "output_type": "execute_result"
    }
   ],
   "source": [
    "veg_chef_prompt = ChatPromptTemplate.from_messages([\n",
    "    (\"system\", \"You are a vegetarian chef specialized on making traditional recipes vegetarian. You find alternative ingredients and explain their preparation. You don't radically modify the recipe. If there is no alternative for a food just say you don't know how to replace it.\"),\n",
    "    (\"human\", \"{recipe}\")\n",
    "])\n",
    "\n",
    "veg_chain = veg_chef_prompt | chat\n",
    "\n",
    "final_chain = {\"recipe\":chef_chain } | veg_chain\n",
    "\n",
    "final_chain.invoke({\n",
    "    \"cuisine\": \"indian\"\n",
    "})"
   ]
  }
 ],
 "metadata": {
  "kernelspec": {
   "display_name": "env",
   "language": "python",
   "name": "python3"
  },
  "language_info": {
   "codemirror_mode": {
    "name": "ipython",
    "version": 3
   },
   "file_extension": ".py",
   "mimetype": "text/x-python",
   "name": "python",
   "nbconvert_exporter": "python",
   "pygments_lexer": "ipython3",
   "version": "3.11.7"
  }
 },
 "nbformat": 4,
 "nbformat_minor": 2
}
