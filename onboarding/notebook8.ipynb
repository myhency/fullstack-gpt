{
 "cells": [
  {
   "cell_type": "code",
   "execution_count": 16,
   "metadata": {},
   "outputs": [
    {
     "data": {
      "text/plain": [
       "[Document(page_content='증 여 계 약 서\\n\\n김형준(이하 “갑”이라 한다)과 여현승 (이하 “을”이라 한다)와 ㈜클레슨\\n\\n(이하 “병”이라 한다) 다음과 같이 증여계약(이하 “본 계약”이라 한다)을\\n\\n체결한다.\\n\\n다\\n\\n음\\n\\n제1조 (목적)\\n\\n본 계약은 “갑”이 대표이사로 재직하고 있는 “병”의 경영 및 기술 혁신 등에', metadata={'source': './files/sample_file2.pdf'}),\n",
       " Document(page_content='본 계약은 “갑”이 대표이사로 재직하고 있는 “병”의 경영 및 기술 혁신 등에\\n\\n기여하였거나 기여할 가능성이 높은 “병”의 임직원 “을”에 대한 보상, 주인\\n\\n의식 고취 및 동기 부여를 위한 자산을 증여함에 있어 상호 합의된 구체적인 사\\n\\n항을 규정함에 그 목적이 있다.\\n\\n제2조 (자산의 증여 및 위탁)', metadata={'source': './files/sample_file2.pdf'}),\n",
       " Document(page_content='항을 규정함에 그 목적이 있다.\\n\\n제2조 (자산의 증여 및 위탁)\\n\\n① “갑”은 “을”에게 다음의 자산(이하 “가상자산”이라 한다)을 증여\\n\\n로서 소유권을 이전하기로 한다.\\n\\n목적물\\n\\n수량\\n\\n단가\\n\\n원화 환산 금액\\n\\n레이블(LBL)\\n\\n[11,000,000] LBL\\n\\n[2.576] 원\\n\\n[28,336,000] 원', metadata={'source': './files/sample_file2.pdf'}),\n",
       " Document(page_content='[11,000,000] LBL\\n\\n[2.576] 원\\n\\n[28,336,000] 원\\n\\n② 전항 또는 제4조 제3항에 따른 단가를 산정할 때에는 해당일(본 계약체\\n\\n결일 또는 위탁해지일) [ ]시 [ ] 거래소 시가를 기준으로 한다.\\n\\n③ “을”은 제1항의 “가상자산”을 증여받음과 동시에 해당 “가상자산”', metadata={'source': './files/sample_file2.pdf'}),\n",
       " Document(page_content='③ “을”은 제1항의 “가상자산”을 증여받음과 동시에 해당 “가상자산”\\n\\n의 보관, 매매 등 관리의 효율성을 위하여 “가상자산”의 보관 및 관리\\n\\n를 “병”에게 위탁한다.\\n\\n페이지 1 / 5\\n\\n③ 전항의 보관 및 관리에는 제3조 제1항에 따른 “가상자산”의 매매가 포\\n\\n함된다.\\n\\n④ “을”은 제3항에 따라 “가상자산”의 보관을 “병”에게 위탁하는바,', metadata={'source': './files/sample_file2.pdf'}),\n",
       " Document(page_content='함된다.\\n\\n④ “을”은 제3항에 따라 “가상자산”의 보관을 “병”에게 위탁하는바,\\n\\n제1항의 “가상자산”이 “을”의 지갑으로 이체되거나 지급되지 않더라\\n\\n도 “을”의 “가상자산” 소유권은 영향을 받지 아니한다.\\n\\n제3조 (가상자산의 위탁 관리)\\n\\n① 제2조 제3항에 따라 “병”에게 위탁된 “가상자산”의 매매는 각 당사', metadata={'source': './files/sample_file2.pdf'}),\n",
       " Document(page_content='① 제2조 제3항에 따라 “병”에게 위탁된 “가상자산”의 매매는 각 당사\\n\\n자 간의 상호 합의 하에 이루어진다.\\n\\n② “병”은 본 계약체결일 후 2년 이내에 위탁 관리하고 있는 “가상자산”\\n\\n중 80%(8,800,000 LBL) 이상을 매도하도록 한다.\\n\\n③ “병”은 전항에 따라 “가상자산”의 일부 또는 전부를 매도하는 경우', metadata={'source': './files/sample_file2.pdf'}),\n",
       " Document(page_content='③ “병”은 전항에 따라 “가상자산”의 일부 또는 전부를 매도하는 경우\\n\\n매도일로부터 [2] 영업일 이내에 판매한 “가상자산” 대금에서 매도에\\n\\n소요된 수수료 등을 제외한 금액을 “을”이 지정하는 계좌로 입금하는\\n\\n방식으로 “을”에게 지급한다.\\n\\n제4조 (가상자산의 위탁 해지)\\n\\n① “병”은 다음 각호의 사유가 발생한 경우 “가상자산”의 위탁 관리를', metadata={'source': './files/sample_file2.pdf'}),\n",
       " Document(page_content='① “병”은 다음 각호의 사유가 발생한 경우 “가상자산”의 위탁 관리를\\n\\n해지할 수 있다.\\n\\n가. “을”이 본인의 의사에 따라 퇴임하거나 퇴직하여 “병”의 임직원으\\n\\n로 재직하지 아니하게 된 경우(단, “병”의 사정으로 “을”을 해고한\\n\\n경우 또는 “을”이 사망한 경우는 제외)\\n\\n나. “을”이 부상, 질병 기타 “을”의 일신상의 사유로 회사 업무를 정상', metadata={'source': './files/sample_file2.pdf'}),\n",
       " Document(page_content='나. “을”이 부상, 질병 기타 “을”의 일신상의 사유로 회사 업무를 정상\\n\\n적으로 수행할 수 없다고 “병”이 판단하는 경우\\n\\n다. “을”이 소유한 “가상자산” 중 “병”에게 위탁 관리되고 있는 부분\\n\\n페이지 2 / 5\\n\\n을 타인에게 양도하거나 담보로 제공한 경우\\n\\n라. “을”이 소유한 “가상자산” 중 “병”에게 위탁 관리되고 있는 부분', metadata={'source': './files/sample_file2.pdf'}),\n",
       " Document(page_content='라. “을”이 소유한 “가상자산” 중 “병”에게 위탁 관리되고 있는 부분\\n\\n이 압류된 경우\\n\\n마.\\n\\n본 계약 체결일로부터 2년이 경과하는 경우(단, “을”과 “병”이 상\\n\\n호 합의하여 위탁기간을 연장할 수 있다.)\\n\\n② 전항에 따라 “가상자산”의 위탁을 해지하는 경우 “갑”은 “가상자산”\\n\\n을 우선하여 매수할 수 있는 권한을 가진다.', metadata={'source': './files/sample_file2.pdf'}),\n",
       " Document(page_content='을 우선하여 매수할 수 있는 권한을 가진다.\\n\\n③ “갑”이 전항에 따라 “가상자산”을 우선매수하는 경우 매수가격은 본\\n\\n계약체결일의 단가와 위탁 해지일의 단가 중 더 낮은 단가로 결정된다.\\n\\n④ “가상자산”에 대한 위탁이 해지되었음에도 “갑”이 제2항에 따른 우선\\n\\n매수권을 행사하지 아니하는 경우 “병”은 제3조 제1항, 제2항에 따라', metadata={'source': './files/sample_file2.pdf'}),\n",
       " Document(page_content='매수권을 행사하지 아니하는 경우 “병”은 제3조 제1항, 제2항에 따라\\n\\n판매하고 남은 “가상자산”을 “을”이 지정하는 지갑으로 반환한다.\\n\\n⑤ 제1항에 따라 “가상자산” 위탁이 해지되는 경우 “병”은 “을”에게\\n\\n위탁 해지에 대한 통지를 하여야 한다.\\n\\n제5조 (가상자산의 양도 등의 제한)', metadata={'source': './files/sample_file2.pdf'}),\n",
       " Document(page_content='위탁 해지에 대한 통지를 하여야 한다.\\n\\n제5조 (가상자산의 양도 등의 제한)\\n\\n① “을”은 “병”에게 위탁 중인 “가상자산”을 양도하거나 담보로 제공\\n\\n하여서는 아니 된다.\\n\\n② 위탁 중인 “가상자산”이 제3자에게 양도되거나 담보로 제공될 경우 제\\n\\n4조에 따른다.\\n\\n③ 전 1, 2항에도 불구하고 “을”이 사망한 때에는 그 상속인이 “가상자', metadata={'source': './files/sample_file2.pdf'}),\n",
       " Document(page_content='③ 전 1, 2항에도 불구하고 “을”이 사망한 때에는 그 상속인이 “가상자\\n\\n산”에 대한 소유권을 행사할 수 있다.\\n\\n제6조 (흡수 및 합병)\\n\\n페이지 3 / 5\\n\\n“병”이 다른 회사에 흡수 합병되는 경우 “병”에게 부여된 “가상자산”의 위\\n\\n탁 관리 권한은 해당 합병 회사에 자동적으로 승계된다. 합병 회사가 위탁 관리', metadata={'source': './files/sample_file2.pdf'}),\n",
       " Document(page_content='탁 관리 권한은 해당 합병 회사에 자동적으로 승계된다. 합병 회사가 위탁 관리\\n\\n권한을 승계하지 않기로 결정하는 경우, “병”은 “을”이 지정하는 지갑으로\\n\\n“가상자산”을 즉시 이체한다.\\n\\n제7조 (계약의 효력) 본 계약의 효력은 본 계약서에 “갑”과 “을”과 “병”이\\n\\n날인 또는 서명하는 즉시 발생한다.\\n\\n제8조 (신의성실)', metadata={'source': './files/sample_file2.pdf'}),\n",
       " Document(page_content='날인 또는 서명하는 즉시 발생한다.\\n\\n제8조 (신의성실)\\n\\n① “을”은 근로자로서 업무를 수행하기 위하여 모든 의무를 성실히 이행\\n\\n하여야 한다.\\n\\n② “갑”과 “을”과 “병”은 상대방의 사전 서면동의없이 본 계약상 권\\n\\n리와 의무를 제3자에게 양도, 이전하거나 담보의 목적으로 제공하지 아니\\n\\n한다.\\n\\n제9조 (조세 부담)', metadata={'source': './files/sample_file2.pdf'}),\n",
       " Document(page_content='한다.\\n\\n제9조 (조세 부담)\\n\\n본 계약의 체결 및 이행으로 인하여 발생하는 조세는 법률상 납부할 책임이 있는\\n\\n자가 각각 부담하기로 한다.\\n\\n제10조 (비밀유지의무)\\n\\n“갑”과“을”과“병”은 본 계약의 존재 또는 계약의 구체적인 조건을 제3자에\\n\\n게 알리거나 제3자가 알게 하여서는 아니 된다.\\n\\n제11조 (관할 법원)', metadata={'source': './files/sample_file2.pdf'}),\n",
       " Document(page_content='게 알리거나 제3자가 알게 하여서는 아니 된다.\\n\\n제11조 (관할 법원)\\n\\n① 본 계약은 대한민국 법률에 따라 규율되며, 당사자들의 권리 또한 대한\\n\\n민국 법률에 의하여 결정된다.\\n\\n② 본 계약에서 정하지 아니한 내용은 “갑”과 “을”과 “병”이 상호 협\\n\\n의하여 조정하고 일반적인 상 관례에 따라 처리한다.\\n\\n페이지 4 / 5', metadata={'source': './files/sample_file2.pdf'}),\n",
       " Document(page_content='의하여 조정하고 일반적인 상 관례에 따라 처리한다.\\n\\n페이지 4 / 5\\n\\n③ 본 계약과 관련하여 당사자간의 분쟁이 발생할 경우 당사자들은 신의와\\n\\n성실로써 상호 원만한 합의에 의해여 해결하되, 분쟁이 해결되지 않을 경\\n\\n우 서울중앙지방법원을 합의관할로 한다.\\n\\n본 계약의 성립을 증명하기 위하여 계약서 2부를 작성하고, “갑”과 “을”이', metadata={'source': './files/sample_file2.pdf'}),\n",
       " Document(page_content='본 계약의 성립을 증명하기 위하여 계약서 2부를 작성하고, “갑”과 “을”이\\n\\n서명 또는 기명날인한 후 각 1부씩 보관한다.\\n\\n2023년 [**]월 [**]일\\n\\n“갑”\\n\\n주 소\\n\\n[**]\\n\\n주민등록\\n\\n번호\\n\\n[]\\n\\n성명\\n\\n[김형준]\\n\\n(서명 또는 날인)\\n\\n“을”\\n\\n주 소\\n\\n[**]\\n\\n주민등록번호 [**]\\n\\n성 명\\n\\n[여현승]\\n\\n(서명 또는 날인)', metadata={'source': './files/sample_file2.pdf'}),\n",
       " Document(page_content='주 소\\n\\n[**]\\n\\n주민등록번호 [**]\\n\\n성 명\\n\\n[여현승]\\n\\n(서명 또는 날인)\\n\\n“병”\\n\\n주 소\\n\\n[**]\\n\\n사업자등록\\n\\n번호\\n\\n[426-88-00665]\\n\\n법인명\\n\\n㈜클레슨\\n\\n대표이사\\n\\n[김형준, 김형준]\\n\\n(서명 또는 날인)\\n\\n페이지 5 / 5', metadata={'source': './files/sample_file2.pdf'})]"
      ]
     },
     "execution_count": 16,
     "metadata": {},
     "output_type": "execute_result"
    }
   ],
   "source": [
    "from langchain.chat_models import ChatOllama\n",
    "from langchain.document_loaders import UnstructuredFileLoader\n",
    "from langchain.text_splitter import RecursiveCharacterTextSplitter\n",
    "\n",
    "splitter = RecursiveCharacterTextSplitter(\n",
    "    chunk_size=200,\n",
    "    chunk_overlap=50\n",
    ")\n",
    "\n",
    "loader = UnstructuredFileLoader(\"./files/sample_file2.pdf\")\n",
    "\n",
    "# len(loader.load())\n",
    "\n",
    "loader.load_and_split(text_splitter=splitter)\n",
    "\n"
   ]
  }
 ],
 "metadata": {
  "kernelspec": {
   "display_name": "env",
   "language": "python",
   "name": "python3"
  },
  "language_info": {
   "name": "python",
   "version": "3.11.7"
  }
 },
 "nbformat": 4,
 "nbformat_minor": 2
}
